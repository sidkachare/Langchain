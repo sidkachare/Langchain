{
 "cells": [
  {
   "cell_type": "code",
   "execution_count": 1,
   "metadata": {},
   "outputs": [
    {
     "data": {
      "text/plain": [
       "[Document(metadata={'source': 'speech.txt'}, page_content='Good morning, everyone!\\n\\nI want to start by asking you a simple question: Have you ever felt like giving up? Like the road ahead was too tough, the challenges too many, or the obstacles too high?\\n\\nIf you\\'re human, the answer is probably yes. We all face moments of doubt and uncertainty. But here\\'s the thing: Success is not about avoiding challenges; it\\'s about pushing through them. It\\'s about persistence.\\n\\nThink about a seed. When you plant it, nothing seems to happen at first. Days, weeks, sometimes months pass by without any visible progress. But beneath the surface, that seed is working, growing roots, preparing for the moment it breaks through the soil and flourishes.\\n\\nWe are like that seed. Our dreams, our goals—they take time. They require effort, patience, and resilience. The journey is rarely easy, but it\\'s worth it.\\n\\nSome of the greatest accomplishments in history happened because people refused to quit. Thomas Edison failed over a thousand times before he invented the light bulb. When asked about his failures, he said, \"I have not failed. I’ve just found 10,000 ways that won’t work.\"')]"
      ]
     },
     "execution_count": 1,
     "metadata": {},
     "output_type": "execute_result"
    }
   ],
   "source": [
    "from langchain_community.document_loaders import TextLoader\n",
    "\n",
    "loader = TextLoader('speech.txt')\n",
    "docs = loader.load()\n",
    "docs"
   ]
  },
  {
   "cell_type": "code",
   "execution_count": 2,
   "metadata": {},
   "outputs": [
    {
     "name": "stderr",
     "output_type": "stream",
     "text": [
      "Created a chunk of size 170, which is longer than the specified 100\n",
      "Created a chunk of size 211, which is longer than the specified 100\n",
      "Created a chunk of size 270, which is longer than the specified 100\n",
      "Created a chunk of size 154, which is longer than the specified 100\n"
     ]
    },
    {
     "data": {
      "text/plain": [
       "[Document(metadata={'source': 'speech.txt'}, page_content='Good morning, everyone!'),\n",
       " Document(metadata={'source': 'speech.txt'}, page_content='I want to start by asking you a simple question: Have you ever felt like giving up? Like the road ahead was too tough, the challenges too many, or the obstacles too high?'),\n",
       " Document(metadata={'source': 'speech.txt'}, page_content=\"If you're human, the answer is probably yes. We all face moments of doubt and uncertainty. But here's the thing: Success is not about avoiding challenges; it's about pushing through them. It's about persistence.\"),\n",
       " Document(metadata={'source': 'speech.txt'}, page_content='Think about a seed. When you plant it, nothing seems to happen at first. Days, weeks, sometimes months pass by without any visible progress. But beneath the surface, that seed is working, growing roots, preparing for the moment it breaks through the soil and flourishes.'),\n",
       " Document(metadata={'source': 'speech.txt'}, page_content=\"We are like that seed. Our dreams, our goals—they take time. They require effort, patience, and resilience. The journey is rarely easy, but it's worth it.\"),\n",
       " Document(metadata={'source': 'speech.txt'}, page_content='Some of the greatest accomplishments in history happened because people refused to quit. Thomas Edison failed over a thousand times before he invented the light bulb. When asked about his failures, he said, \"I have not failed. I’ve just found 10,000 ways that won’t work.\"')]"
      ]
     },
     "execution_count": 2,
     "metadata": {},
     "output_type": "execute_result"
    }
   ],
   "source": [
    "from langchain_text_splitters import CharacterTextSplitter\n",
    "text_splitter = CharacterTextSplitter(separator = '\\n\\n', chunk_size = 100, chunk_overlap = 20)\n",
    "text_splitter.split_documents(docs)"
   ]
  },
  {
   "cell_type": "code",
   "execution_count": 4,
   "metadata": {},
   "outputs": [
    {
     "name": "stderr",
     "output_type": "stream",
     "text": [
      "Created a chunk of size 170, which is longer than the specified 100\n",
      "Created a chunk of size 211, which is longer than the specified 100\n",
      "Created a chunk of size 270, which is longer than the specified 100\n",
      "Created a chunk of size 154, which is longer than the specified 100\n"
     ]
    },
    {
     "name": "stdout",
     "output_type": "stream",
     "text": [
      "page_content='Good morning, everyone!'\n",
      "page_content='I want to start by asking you a simple question: Have you ever felt like giving up? Like the road ahead was too tough, the challenges too many, or the obstacles too high?'\n"
     ]
    }
   ],
   "source": [
    "speech = \"\"\n",
    "with open('speech.txt')as f:\n",
    "    speech = f.read()\n",
    "\n",
    "text_splitter= CharacterTextSplitter(chunk_size = 100, chunk_overlap = 20)\n",
    "text = text_splitter.create_documents([speech])\n",
    "print(text[0])\n",
    "print(text[1])"
   ]
  },
  {
   "cell_type": "code",
   "execution_count": null,
   "metadata": {},
   "outputs": [],
   "source": []
  }
 ],
 "metadata": {
  "kernelspec": {
   "display_name": "Python 3",
   "language": "python",
   "name": "python3"
  },
  "language_info": {
   "codemirror_mode": {
    "name": "ipython",
    "version": 3
   },
   "file_extension": ".py",
   "mimetype": "text/x-python",
   "name": "python",
   "nbconvert_exporter": "python",
   "pygments_lexer": "ipython3",
   "version": "3.10.0"
  }
 },
 "nbformat": 4,
 "nbformat_minor": 2
}
